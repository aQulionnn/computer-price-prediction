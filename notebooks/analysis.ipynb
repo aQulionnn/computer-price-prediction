{
 "cells": [
  {
   "cell_type": "code",
   "execution_count": 21,
   "id": "2eddc5d3-84c3-4c0a-97e9-37aac9a6b73b",
   "metadata": {},
   "outputs": [],
   "source": [
    "import pandas as pd\n",
    "import numpy as np\n",
    "\n",
    "import matplotlib.pyplot as plt\n",
    "import seaborn as sns\n",
    "\n",
    "from sklearn.model_selection import train_test_split \n",
    "from sklearn.tree import DecisionTreeClassifier   \n",
    "from sklearn.metrics import confusion_matrix\n",
    "from sklearn.metrics import mean_squared_error, r2_score, mean_absolute_error\n",
    "from sklearn.model_selection import GridSearchCV, RandomizedSearchCV\n",
    "from sklearn.model_selection import learning_curve\n",
    "from sklearn.ensemble import RandomForestRegressor\n",
    "from sklearn.preprocessing import StandardScaler, LabelEncoder, OneHotEncoder\n",
    "from sklearn.compose import make_column_transformer, make_column_selector\n",
    "from scipy.stats import entropy\n",
    "\n",
    "from tensorflow import keras\n",
    "from tensorflow.keras import Input, layers, callbacks"
   ]
  },
  {
   "cell_type": "code",
   "execution_count": 22,
   "id": "19b97027-9c56-41e3-a396-502081adc32f",
   "metadata": {},
   "outputs": [],
   "source": [
    "computer_prices = pd.read_csv(\"../data/computer_prices_sample.csv\")"
   ]
  },
  {
   "cell_type": "code",
   "execution_count": 23,
   "id": "e2fd6b0b-c76e-4364-afcd-96fbf955a38c",
   "metadata": {},
   "outputs": [],
   "source": [
    "computer_prices[['resolution_width', 'resolution_height']] = computer_prices['resolution'].str.split('x', expand=True).astype(int)\n",
    "computer_prices['aspect_ratio'] = np.round(computer_prices['resolution_width'] / computer_prices['resolution_height'], 2)\n",
    "computer_prices.drop('resolution', axis=1, inplace=True)"
   ]
  },
  {
   "cell_type": "code",
   "execution_count": 24,
   "id": "dd0e2feb-077c-4bc5-89fe-e99f61de2fc4",
   "metadata": {},
   "outputs": [],
   "source": [
    "def extract_cpu_type(cpu_model):\n",
    "    parts = cpu_model.replace(\"-\", \" \").split()\n",
    "\n",
    "    if parts[0] in [\"AMD\", \"Intel\"]:\n",
    "        parts = parts[:-1]\n",
    "        \n",
    "    parts = parts[1:]\n",
    "\n",
    "    return \" \".join(parts).strip()\n",
    "\n",
    "computer_prices['cpu_type'] = computer_prices['cpu_model'].apply(extract_cpu_type)\n",
    "computer_prices.drop(['model', 'cpu_model'], axis=1, inplace=True)"
   ]
  },
  {
   "cell_type": "code",
   "execution_count": 25,
   "id": "640214d7-06ce-45bc-9fae-8691d7ddc963",
   "metadata": {},
   "outputs": [],
   "source": [
    "X = computer_prices.copy()\n",
    "y = X.pop('price')\n",
    "\n",
    "preprocessor = make_column_transformer(\n",
    "    (StandardScaler(), make_column_selector(dtype_include=np.number)),\n",
    "    (OneHotEncoder(sparse_output=False), make_column_selector(dtype_include=object))\n",
    ")\n",
    "\n",
    "X = preprocessor.fit_transform(X)\n",
    "y = np.log(y)\n",
    "\n",
    "X_train, X_temp, y_train, y_temp = train_test_split(X, y, test_size=0.2, random_state=42)\n",
    "X_val, X_test, y_val, y_test = train_test_split(X_temp, y_temp, test_size=0.5, random_state=42)"
   ]
  },
  {
   "cell_type": "code",
   "execution_count": 26,
   "id": "d7d41e5a-6b8b-428d-945f-24e098a8d026",
   "metadata": {},
   "outputs": [
    {
     "name": "stdout",
     "output_type": "stream",
     "text": [
      "Epoch 29: early stopping\n",
      "Restoring model weights from the end of the best epoch: 24.\n"
     ]
    }
   ],
   "source": [
    "input_shape = (X_train.shape[1],)\n",
    "\n",
    "model = keras.Sequential([\n",
    "    Input(shape=input_shape),\n",
    "    \n",
    "    layers.BatchNormalization(),\n",
    "    layers.Dense(units=128, activation='relu'),\n",
    "    layers.Dropout(rate=0.25),\n",
    "    \n",
    "    layers.BatchNormalization(),\n",
    "    layers.Dense(units=64, activation='relu'),\n",
    "    layers.Dropout(rate=0.25),\n",
    "\n",
    "    layers.Dense(units=1, activation='linear')\n",
    "])\n",
    "\n",
    "model.compile(\n",
    "    optimizer='adam',\n",
    "    loss='mse',\n",
    "    metrics=['mse']\n",
    ")\n",
    "\n",
    "early_stopping = callbacks.EarlyStopping(\n",
    "    monitor='val_loss',\n",
    "    mode='min',\n",
    "    patience=5,\n",
    "    verbose=1,\n",
    "    restore_best_weights=True\n",
    ")\n",
    "\n",
    "history = model.fit(\n",
    "    x=X_train,\n",
    "    y=y_train,\n",
    "    validation_data=(X_val, y_val),\n",
    "    batch_size=32,\n",
    "    epochs=100,\n",
    "    verbose=0,\n",
    "    callbacks=[early_stopping]\n",
    ")"
   ]
  },
  {
   "cell_type": "code",
   "execution_count": 27,
   "id": "d2090505-2eb2-426e-a82e-8c134b9b0ace",
   "metadata": {},
   "outputs": [
    {
     "name": "stdout",
     "output_type": "stream",
     "text": [
      "Minimum Validation Loss: 0.0509\n"
     ]
    },
    {
     "data": {
      "image/png": "[encoded data removed]",
      "text/plain": [
       "<Figure size 640x480 with 1 Axes>"
      ]
     },
     "metadata": {},
     "output_type": "display_data"
    }
   ],
   "source": [
    "history_df = pd.DataFrame(history.history)\n",
    "history_df.loc[:, ['loss', 'val_loss']].plot()\n",
    "print(\"Minimum Validation Loss: {:0.4f}\".format(history_df['val_loss'].min()))"
   ]
  },
  {
   "cell_type": "code",
   "execution_count": null,
   "id": "082c9885-e390-4ade-bfe5-2d625578c60b",
   "metadata": {},
   "outputs": [],
   "source": []
  }
 ],
 "metadata": {
  "kernelspec": {
   "display_name": "Python 3 (ipykernel)",
   "language": "python",
   "name": "python3"
  },
  "language_info": {
   "codemirror_mode": {
    "name": "ipython",
    "version": 3
   },
   "file_extension": ".py",
   "mimetype": "text/x-python",
   "name": "python",
   "nbconvert_exporter": "python",
   "pygments_lexer": "ipython3",
   "version": "3.10.19"
  }
 },
 "nbformat": 4,
 "nbformat_minor": 5
}
