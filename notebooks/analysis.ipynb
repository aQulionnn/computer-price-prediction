{
 "cells": [
  {
   "cell_type": "code",
   "execution_count": null,
   "id": "6e75a5e0-967e-413b-9f6c-484678b5df98",
   "metadata": {},
   "outputs": [],
   "source": [
    "from google.colab import files\n",
    "uploaded = files.upload()"
   ]
  },
  {
   "cell_type": "code",
   "execution_count": 1,
   "id": "2eddc5d3-84c3-4c0a-97e9-37aac9a6b73b",
   "metadata": {},
   "outputs": [],
   "source": [
    "import pandas as pd\n",
    "import numpy as np\n",
    "\n",
    "import matplotlib.pyplot as plt\n",
    "import seaborn as sns\n",
    "\n",
    "from sklearn.model_selection import train_test_split \n",
    "from sklearn.tree import DecisionTreeClassifier   \n",
    "from sklearn.metrics import confusion_matrix\n",
    "from sklearn.metrics import mean_squared_error, r2_score, mean_absolute_error\n",
    "from sklearn.model_selection import GridSearchCV, RandomizedSearchCV\n",
    "from sklearn.model_selection import learning_curve\n",
    "from sklearn.ensemble import RandomForestRegressor"
   ]
  },
  {
   "cell_type": "code",
   "execution_count": 2,
   "id": "19b97027-9c56-41e3-a396-502081adc32f",
   "metadata": {},
   "outputs": [],
   "source": [
    "computer_prices = pd.read_csv(\"computer_prices.csv\")"
   ]
  },
  {
   "cell_type": "code",
   "execution_count": 22,
   "id": "a952e156-5f7b-4e61-8004-570f6efead90",
   "metadata": {},
   "outputs": [
    {
     "name": "stdout",
     "output_type": "stream",
     "text": [
      "<class 'pandas.core.frame.DataFrame'>\n",
      "RangeIndex: 100000 entries, 0 to 99999\n",
      "Data columns (total 34 columns):\n",
      " #   Column               Non-Null Count   Dtype  \n",
      "---  ------               --------------   -----  \n",
      " 0   ID                   100000 non-null  int64  \n",
      " 1   device_type          100000 non-null  object \n",
      " 2   brand                100000 non-null  object \n",
      " 3   model                100000 non-null  object \n",
      " 4   release_year         100000 non-null  int64  \n",
      " 5   os                   100000 non-null  object \n",
      " 6   form_factor          100000 non-null  object \n",
      " 7   cpu_brand            100000 non-null  object \n",
      " 8   cpu_model            100000 non-null  object \n",
      " 9   cpu_tier             100000 non-null  int64  \n",
      " 10  cpu_cores            100000 non-null  int64  \n",
      " 11  cpu_threads          100000 non-null  int64  \n",
      " 12  cpu_base_ghz         100000 non-null  float64\n",
      " 13  cpu_boost_ghz        100000 non-null  float64\n",
      " 14  gpu_brand            100000 non-null  object \n",
      " 15  gpu_model            100000 non-null  object \n",
      " 16  gpu_tier             100000 non-null  int64  \n",
      " 17  vram_gb              100000 non-null  int64  \n",
      " 18  ram_gb               100000 non-null  int64  \n",
      " 19  storage_type         100000 non-null  object \n",
      " 20  storage_gb           100000 non-null  int64  \n",
      " 21  storage_drive_count  100000 non-null  int64  \n",
      " 22  display_type         100000 non-null  object \n",
      " 23  display_size_in      100000 non-null  float64\n",
      " 24  resolution           100000 non-null  object \n",
      " 25  refresh_hz           100000 non-null  int64  \n",
      " 26  battery_wh           100000 non-null  int64  \n",
      " 27  charger_watts        100000 non-null  int64  \n",
      " 28  psu_watts            100000 non-null  int64  \n",
      " 29  wifi                 100000 non-null  object \n",
      " 30  bluetooth            100000 non-null  float64\n",
      " 31  weight_kg            100000 non-null  float64\n",
      " 32  warranty_months      100000 non-null  int64  \n",
      " 33  price                100000 non-null  float64\n",
      "dtypes: float64(6), int64(15), object(13)\n",
      "memory usage: 25.9+ MB\n"
     ]
    }
   ],
   "source": [
    "computer_prices.info()"
   ]
  },
  {
   "cell_type": "code",
   "execution_count": 31,
   "id": "e2fd6b0b-c76e-4364-afcd-96fbf955a38c",
   "metadata": {},
   "outputs": [],
   "source": [
    "computer_prices[['resolution_width', 'resolution_height']] = computer_prices['resolution'].str.split('x', expand=True).astype(int)"
   ]
  },
  {
   "cell_type": "code",
   "execution_count": 32,
   "id": "ccf46162-f1bf-443f-868e-f7da0cf63cf9",
   "metadata": {},
   "outputs": [],
   "source": [
    "computer_prices['aspect_ratio'] = np.round(computer_prices['resolution_width'] / computer_prices['resolution_height'], 2)"
   ]
  },
  {
   "cell_type": "code",
   "execution_count": 35,
   "id": "8cdf5242-1798-4491-8134-162cdc1857cb",
   "metadata": {},
   "outputs": [],
   "source": [
    "computer_prices.drop('resolution', axis=1, inplace=True)"
   ]
  },
  {
   "cell_type": "code",
   "execution_count": 50,
   "id": "28d0738a-f7a5-4b7d-a518-0c53b636bec0",
   "metadata": {},
   "outputs": [
    {
     "name": "stdout",
     "output_type": "stream",
     "text": [
      "<class 'pandas.core.frame.DataFrame'>\n",
      "RangeIndex: 100000 entries, 0 to 99999\n",
      "Data columns (total 36 columns):\n",
      " #   Column               Non-Null Count   Dtype  \n",
      "---  ------               --------------   -----  \n",
      " 0   ID                   100000 non-null  int64  \n",
      " 1   device_type          100000 non-null  object \n",
      " 2   brand                100000 non-null  object \n",
      " 3   model                100000 non-null  object \n",
      " 4   release_year         100000 non-null  int64  \n",
      " 5   os                   100000 non-null  object \n",
      " 6   form_factor          100000 non-null  object \n",
      " 7   cpu_brand            100000 non-null  object \n",
      " 8   cpu_model            100000 non-null  object \n",
      " 9   cpu_tier             100000 non-null  int64  \n",
      " 10  cpu_cores            100000 non-null  int64  \n",
      " 11  cpu_threads          100000 non-null  int64  \n",
      " 12  cpu_base_ghz         100000 non-null  float64\n",
      " 13  cpu_boost_ghz        100000 non-null  float64\n",
      " 14  gpu_brand            100000 non-null  object \n",
      " 15  gpu_model            100000 non-null  object \n",
      " 16  gpu_tier             100000 non-null  int64  \n",
      " 17  vram_gb              100000 non-null  int64  \n",
      " 18  ram_gb               100000 non-null  int64  \n",
      " 19  storage_type         100000 non-null  object \n",
      " 20  storage_gb           100000 non-null  int64  \n",
      " 21  storage_drive_count  100000 non-null  int64  \n",
      " 22  display_type         100000 non-null  object \n",
      " 23  display_size_in      100000 non-null  float64\n",
      " 24  refresh_hz           100000 non-null  int64  \n",
      " 25  battery_wh           100000 non-null  int64  \n",
      " 26  charger_watts        100000 non-null  int64  \n",
      " 27  psu_watts            100000 non-null  int64  \n",
      " 28  wifi                 100000 non-null  object \n",
      " 29  bluetooth            100000 non-null  float64\n",
      " 30  weight_kg            100000 non-null  float64\n",
      " 31  warranty_months      100000 non-null  int64  \n",
      " 32  price                100000 non-null  float64\n",
      " 33  resolution_width     100000 non-null  int64  \n",
      " 34  resolution_height    100000 non-null  int64  \n",
      " 35  aspect_ratio         100000 non-null  float64\n",
      "dtypes: float64(7), int64(17), object(12)\n",
      "memory usage: 27.5+ MB\n"
     ]
    }
   ],
   "source": [
    "computer_prices.info()"
   ]
  },
  {
   "cell_type": "code",
   "execution_count": null,
   "id": "12bda730-6d88-4f14-a832-3ef2a147b0cc",
   "metadata": {},
   "outputs": [],
   "source": []
  }
 ],
 "metadata": {
  "kernelspec": {
   "display_name": "Python 3 (ipykernel)",
   "language": "python",
   "name": "python3"
  },
  "language_info": {
   "codemirror_mode": {
    "name": "ipython",
    "version": 3
   },
   "file_extension": ".py",
   "mimetype": "text/x-python",
   "name": "python",
   "nbconvert_exporter": "python",
   "pygments_lexer": "ipython3",
   "version": "3.13.5"
  }
 },
 "nbformat": 4,
 "nbformat_minor": 5
}
