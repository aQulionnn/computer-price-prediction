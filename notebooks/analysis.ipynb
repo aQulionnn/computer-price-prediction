{
 "cells": [
  {
   "cell_type": "code",
   "execution_count": 1,
   "id": "2eddc5d3-84c3-4c0a-97e9-37aac9a6b73b",
   "metadata": {},
   "outputs": [],
   "source": [
    "import pandas as pd\n",
    "import numpy as np\n",
    "\n",
    "import matplotlib.pyplot as plt\n",
    "import seaborn as sns\n",
    "\n",
    "from sklearn.model_selection import train_test_split \n",
    "from sklearn.tree import DecisionTreeClassifier   \n",
    "from sklearn.metrics import confusion_matrix\n",
    "from sklearn.metrics import mean_squared_error, r2_score, mean_absolute_error\n",
    "from sklearn.model_selection import GridSearchCV, RandomizedSearchCV\n",
    "from sklearn.model_selection import learning_curve\n",
    "from sklearn.ensemble import RandomForestRegressor\n",
    "from sklearn.preprocessing import StandardScaler, LabelEncoder\n",
    "from scipy.stats import entropy\n",
    "\n",
    "from tqdm import tqdm"
   ]
  },
  {
   "cell_type": "code",
   "execution_count": 2,
   "id": "19b97027-9c56-41e3-a396-502081adc32f",
   "metadata": {},
   "outputs": [],
   "source": [
    "computer_prices = pd.read_csv(\"../data/computer_prices.csv\")"
   ]
  },
  {
   "cell_type": "code",
   "execution_count": 3,
   "id": "a952e156-5f7b-4e61-8004-570f6efead90",
   "metadata": {},
   "outputs": [
    {
     "name": "stdout",
     "output_type": "stream",
     "text": [
      "<class 'pandas.core.frame.DataFrame'>\n",
      "RangeIndex: 100000 entries, 0 to 99999\n",
      "Data columns (total 34 columns):\n",
      " #   Column               Non-Null Count   Dtype  \n",
      "---  ------               --------------   -----  \n",
      " 0   ID                   100000 non-null  int64  \n",
      " 1   device_type          100000 non-null  object \n",
      " 2   brand                100000 non-null  object \n",
      " 3   model                100000 non-null  object \n",
      " 4   release_year         100000 non-null  int64  \n",
      " 5   os                   100000 non-null  object \n",
      " 6   form_factor          100000 non-null  object \n",
      " 7   cpu_brand            100000 non-null  object \n",
      " 8   cpu_model            100000 non-null  object \n",
      " 9   cpu_tier             100000 non-null  int64  \n",
      " 10  cpu_cores            100000 non-null  int64  \n",
      " 11  cpu_threads          100000 non-null  int64  \n",
      " 12  cpu_base_ghz         100000 non-null  float64\n",
      " 13  cpu_boost_ghz        100000 non-null  float64\n",
      " 14  gpu_brand            100000 non-null  object \n",
      " 15  gpu_model            100000 non-null  object \n",
      " 16  gpu_tier             100000 non-null  int64  \n",
      " 17  vram_gb              100000 non-null  int64  \n",
      " 18  ram_gb               100000 non-null  int64  \n",
      " 19  storage_type         100000 non-null  object \n",
      " 20  storage_gb           100000 non-null  int64  \n",
      " 21  storage_drive_count  100000 non-null  int64  \n",
      " 22  display_type         100000 non-null  object \n",
      " 23  display_size_in      100000 non-null  float64\n",
      " 24  resolution           100000 non-null  object \n",
      " 25  refresh_hz           100000 non-null  int64  \n",
      " 26  battery_wh           100000 non-null  int64  \n",
      " 27  charger_watts        100000 non-null  int64  \n",
      " 28  psu_watts            100000 non-null  int64  \n",
      " 29  wifi                 100000 non-null  object \n",
      " 30  bluetooth            100000 non-null  float64\n",
      " 31  weight_kg            100000 non-null  float64\n",
      " 32  warranty_months      100000 non-null  int64  \n",
      " 33  price                100000 non-null  float64\n",
      "dtypes: float64(6), int64(15), object(13)\n",
      "memory usage: 25.9+ MB\n"
     ]
    }
   ],
   "source": [
    "computer_prices.info()"
   ]
  },
  {
   "cell_type": "code",
   "execution_count": 4,
   "id": "e2fd6b0b-c76e-4364-afcd-96fbf955a38c",
   "metadata": {},
   "outputs": [],
   "source": [
    "computer_prices[['resolution_width', 'resolution_height']] = computer_prices['resolution'].str.split('x', expand=True).astype(int)"
   ]
  },
  {
   "cell_type": "code",
   "execution_count": 5,
   "id": "ccf46162-f1bf-443f-868e-f7da0cf63cf9",
   "metadata": {},
   "outputs": [],
   "source": [
    "computer_prices['aspect_ratio'] = np.round(computer_prices['resolution_width'] / computer_prices['resolution_height'], 2)"
   ]
  },
  {
   "cell_type": "code",
   "execution_count": 6,
   "id": "8cdf5242-1798-4491-8134-162cdc1857cb",
   "metadata": {},
   "outputs": [],
   "source": [
    "computer_prices.drop('resolution', axis=1, inplace=True)"
   ]
  },
  {
   "cell_type": "code",
   "execution_count": 7,
   "id": "28d0738a-f7a5-4b7d-a518-0c53b636bec0",
   "metadata": {},
   "outputs": [
    {
     "data": {
      "text/plain": [
       "Index(['ID', 'device_type', 'brand', 'model', 'release_year', 'os',\n",
       "       'form_factor', 'cpu_brand', 'cpu_model', 'cpu_tier', 'cpu_cores',\n",
       "       'cpu_threads', 'cpu_base_ghz', 'cpu_boost_ghz', 'gpu_brand',\n",
       "       'gpu_model', 'gpu_tier', 'vram_gb', 'ram_gb', 'storage_type',\n",
       "       'storage_gb', 'storage_drive_count', 'display_type', 'display_size_in',\n",
       "       'refresh_hz', 'battery_wh', 'charger_watts', 'psu_watts', 'wifi',\n",
       "       'bluetooth', 'weight_kg', 'warranty_months', 'price',\n",
       "       'resolution_width', 'resolution_height', 'aspect_ratio'],\n",
       "      dtype='object')"
      ]
     },
     "execution_count": 7,
     "metadata": {},
     "output_type": "execute_result"
    }
   ],
   "source": [
    "computer_prices.columns"
   ]
  },
  {
   "cell_type": "code",
   "execution_count": 8,
   "id": "12bda730-6d88-4f14-a832-3ef2a147b0cc",
   "metadata": {},
   "outputs": [
    {
     "data": {
      "text/plain": [
       "np.int64(0)"
      ]
     },
     "execution_count": 8,
     "metadata": {},
     "output_type": "execute_result"
    }
   ],
   "source": [
    "computer_prices.duplicated().sum()"
   ]
  },
  {
   "cell_type": "code",
   "execution_count": 9,
   "id": "a9fd4997-07f7-451b-a052-08996c838487",
   "metadata": {},
   "outputs": [
    {
     "name": "stdout",
     "output_type": "stream",
     "text": [
      "device_type: 2\n",
      "brand: 10\n",
      "model: 99036\n",
      "os: 4\n",
      "form_factor: 10\n",
      "cpu_brand: 3\n",
      "cpu_model: 26971\n",
      "gpu_brand: 4\n",
      "gpu_model: 49\n",
      "storage_type: 4\n",
      "display_type: 6\n",
      "wifi: 4\n"
     ]
    }
   ],
   "source": [
    "for col in computer_prices.select_dtypes(include=['object']).columns:\n",
    "    print(f\"{col}: {computer_prices[col].nunique()}\")"
   ]
  },
  {
   "cell_type": "code",
   "execution_count": 10,
   "id": "dd0e2feb-077c-4bc5-89fe-e99f61de2fc4",
   "metadata": {},
   "outputs": [],
   "source": [
    "def extract_cpu_type(cpu_model):\n",
    "    parts = cpu_model.replace(\"-\", \" \").split()\n",
    "\n",
    "    if parts[0] in [\"AMD\", \"Intel\"]:\n",
    "        parts = parts[:-1]\n",
    "        \n",
    "    parts = parts[1:]\n",
    "\n",
    "    return \" \".join(parts).strip()"
   ]
  },
  {
   "cell_type": "code",
   "execution_count": 11,
   "id": "640214d7-06ce-45bc-9fae-8691d7ddc963",
   "metadata": {},
   "outputs": [],
   "source": [
    "computer_prices['cpu_type'] = computer_prices['cpu_model'].apply(extract_cpu_type)"
   ]
  },
  {
   "cell_type": "code",
   "execution_count": 12,
   "id": "fe6349e1-7a9d-44bd-be0e-619ccafc6724",
   "metadata": {},
   "outputs": [
    {
     "data": {
      "text/plain": [
       "array(['i5', 'i7', 'Ryzen 5', 'Ryzen 7', 'M2', 'M2 Pro', 'i9', 'Ryzen 3',\n",
       "       'M3 Pro', 'i3', 'M1 Pro', 'M1 Max', 'Ryzen 9', 'M3', 'M1',\n",
       "       'M2 Max', 'M3 Max'], dtype=object)"
      ]
     },
     "execution_count": 12,
     "metadata": {},
     "output_type": "execute_result"
    }
   ],
   "source": [
    "computer_prices['cpu_type'].unique()"
   ]
  },
  {
   "cell_type": "code",
   "execution_count": 13,
   "id": "b5e99431-0ba6-4e0f-aed6-d6175e8ce0bc",
   "metadata": {},
   "outputs": [],
   "source": [
    "computer_prices.drop(['model', 'cpu_model'], axis=1, inplace=True)"
   ]
  },
  {
   "cell_type": "code",
   "execution_count": 14,
   "id": "fe1c197f-1ac7-4c79-a291-909ef7b9d796",
   "metadata": {},
   "outputs": [
    {
     "name": "stdout",
     "output_type": "stream",
     "text": [
      "<class 'pandas.core.frame.DataFrame'>\n",
      "RangeIndex: 100000 entries, 0 to 99999\n",
      "Data columns (total 35 columns):\n",
      " #   Column               Non-Null Count   Dtype  \n",
      "---  ------               --------------   -----  \n",
      " 0   ID                   100000 non-null  int64  \n",
      " 1   device_type          100000 non-null  object \n",
      " 2   brand                100000 non-null  object \n",
      " 3   release_year         100000 non-null  int64  \n",
      " 4   os                   100000 non-null  object \n",
      " 5   form_factor          100000 non-null  object \n",
      " 6   cpu_brand            100000 non-null  object \n",
      " 7   cpu_tier             100000 non-null  int64  \n",
      " 8   cpu_cores            100000 non-null  int64  \n",
      " 9   cpu_threads          100000 non-null  int64  \n",
      " 10  cpu_base_ghz         100000 non-null  float64\n",
      " 11  cpu_boost_ghz        100000 non-null  float64\n",
      " 12  gpu_brand            100000 non-null  object \n",
      " 13  gpu_model            100000 non-null  object \n",
      " 14  gpu_tier             100000 non-null  int64  \n",
      " 15  vram_gb              100000 non-null  int64  \n",
      " 16  ram_gb               100000 non-null  int64  \n",
      " 17  storage_type         100000 non-null  object \n",
      " 18  storage_gb           100000 non-null  int64  \n",
      " 19  storage_drive_count  100000 non-null  int64  \n",
      " 20  display_type         100000 non-null  object \n",
      " 21  display_size_in      100000 non-null  float64\n",
      " 22  refresh_hz           100000 non-null  int64  \n",
      " 23  battery_wh           100000 non-null  int64  \n",
      " 24  charger_watts        100000 non-null  int64  \n",
      " 25  psu_watts            100000 non-null  int64  \n",
      " 26  wifi                 100000 non-null  object \n",
      " 27  bluetooth            100000 non-null  float64\n",
      " 28  weight_kg            100000 non-null  float64\n",
      " 29  warranty_months      100000 non-null  int64  \n",
      " 30  price                100000 non-null  float64\n",
      " 31  resolution_width     100000 non-null  int64  \n",
      " 32  resolution_height    100000 non-null  int64  \n",
      " 33  aspect_ratio         100000 non-null  float64\n",
      " 34  cpu_type             100000 non-null  object \n",
      "dtypes: float64(7), int64(17), object(11)\n",
      "memory usage: 26.7+ MB\n"
     ]
    }
   ],
   "source": [
    "computer_prices.info()"
   ]
  },
  {
   "cell_type": "code",
   "execution_count": 15,
   "id": "df269ca4-d06e-4407-ad58-face132e8140",
   "metadata": {},
   "outputs": [
    {
     "name": "stdout",
     "output_type": "stream",
     "text": [
      "device_type\n",
      "Laptop     0.59844\n",
      "Desktop    0.40156\n",
      "Name: proportion, dtype: float64 \n",
      "\n",
      "brand\n",
      "Lenovo      0.15992\n",
      "HP          0.14114\n",
      "Dell        0.14005\n",
      "Apple       0.11915\n",
      "ASUS        0.10159\n",
      "Acer        0.09925\n",
      "Samsung     0.08066\n",
      "MSI         0.07891\n",
      "Gigabyte    0.04900\n",
      "Razer       0.03033\n",
      "Name: proportion, dtype: float64 \n",
      "\n",
      "os\n",
      "Windows     0.71817\n",
      "macOS       0.18207\n",
      "Linux       0.06109\n",
      "ChromeOS    0.03867\n",
      "Name: proportion, dtype: float64 \n",
      "\n",
      "form_factor\n",
      "Mainstream     0.17819\n",
      "Gaming         0.16876\n",
      "ATX            0.15597\n",
      "Ultrabook      0.13236\n",
      "Micro-ATX      0.08672\n",
      "Full-Tower     0.07110\n",
      "2-in-1         0.07049\n",
      "SFF            0.05585\n",
      "Workstation    0.04864\n",
      "Mini-ITX       0.03192\n",
      "Name: proportion, dtype: float64 \n",
      "\n",
      "cpu_brand\n",
      "Intel    0.52774\n",
      "AMD      0.35311\n",
      "Apple    0.11915\n",
      "Name: proportion, dtype: float64 \n",
      "\n",
      "gpu_brand\n",
      "NVIDIA    0.54712\n",
      "Apple     0.18922\n",
      "AMD       0.15767\n",
      "Intel     0.10599\n",
      "Name: proportion, dtype: float64 \n",
      "\n",
      "gpu_model\n",
      "Apple Integrated    0.18922\n",
      "RTX 40 70           0.05743\n",
      "RTX 30 70           0.05692\n",
      "RTX 40 60           0.05437\n",
      "RTX 30 60           0.05314\n",
      "RTX 30 50           0.05046\n",
      "RTX 40 50           0.04970\n",
      "RTX 40 80           0.04676\n",
      "RTX 30 80           0.04618\n",
      "RTX 30 80 Ti        0.02752\n",
      "RTX 40 80 Ti        0.02685\n",
      "Arc A580            0.01947\n",
      "Arc A310            0.01818\n",
      "Arc A380            0.01817\n",
      "RX 7000 70          0.01636\n",
      "RX 6000 70          0.01620\n",
      "Arc A700            0.01611\n",
      "RX 6000 60          0.01608\n",
      "RX 7000 60          0.01521\n",
      "RX 7000 50          0.01404\n",
      "RX 6000 50          0.01375\n",
      "RX 7000 80          0.01349\n",
      "RTX 20 70           0.01319\n",
      "RX 6000 80          0.01293\n",
      "RTX 20 60           0.01229\n",
      "RTX 40 90           0.01137\n",
      "RTX 30 90           0.01129\n",
      "RTX 20 50           0.01120\n",
      "RTX 20 80           0.01009\n",
      "Arc A770            0.00922\n",
      "RX 6000 80 XT       0.00823\n",
      "RX 7000 80 XT       0.00814\n",
      "RTX 20 80 Ti        0.00571\n",
      "Arc B580            0.00475\n",
      "Arc B380            0.00474\n",
      "Arc B310            0.00429\n",
      "Arc A770 Limited    0.00387\n",
      "Arc B700            0.00386\n",
      "RX 5000 70          0.00372\n",
      "RX 6000 90          0.00355\n",
      "RX 7000 90          0.00354\n",
      "RX 5000 60          0.00335\n",
      "RX 5000 50          0.00324\n",
      "RX 5000 80          0.00306\n",
      "RTX 20 90           0.00265\n",
      "Arc B770            0.00230\n",
      "RX 5000 80 XT       0.00190\n",
      "Arc B770 Limited    0.00103\n",
      "RX 5000 90          0.00088\n",
      "Name: proportion, dtype: float64 \n",
      "\n",
      "storage_type\n",
      "NVMe      0.45059\n",
      "SSD       0.24937\n",
      "HDD       0.15023\n",
      "Hybrid    0.14981\n",
      "Name: proportion, dtype: float64 \n",
      "\n",
      "display_type\n",
      "LED         0.32000\n",
      "OLED        0.21910\n",
      "IPS         0.17742\n",
      "Mini-LED    0.12188\n",
      "QLED        0.10069\n",
      "VA          0.06091\n",
      "Name: proportion, dtype: float64 \n",
      "\n",
      "wifi\n",
      "Wi-Fi 6     0.46149\n",
      "Wi-Fi 6E    0.25923\n",
      "Wi-Fi 5     0.19926\n",
      "Wi-Fi 7     0.08002\n",
      "Name: proportion, dtype: float64 \n",
      "\n",
      "cpu_type\n",
      "i5         0.25233\n",
      "i7         0.17991\n",
      "Ryzen 5    0.17014\n",
      "Ryzen 7    0.11976\n",
      "i3         0.07354\n",
      "Ryzen 3    0.04966\n",
      "i9         0.02196\n",
      "M2 Pro     0.01389\n",
      "M1         0.01374\n",
      "M2 Max     0.01367\n",
      "Ryzen 9    0.01355\n",
      "M1 Pro     0.01341\n",
      "M3 Pro     0.01315\n",
      "M3 Max     0.01300\n",
      "M3         0.01287\n",
      "M1 Max     0.01277\n",
      "M2         0.01265\n",
      "Name: proportion, dtype: float64 \n",
      "\n"
     ]
    }
   ],
   "source": [
    "for col in computer_prices.select_dtypes(include=\"object\"):\n",
    "    print(computer_prices[col].value_counts(normalize=True), \"\\n\")"
   ]
  },
  {
   "cell_type": "code",
   "execution_count": 16,
   "id": "7f0693b1-f877-4e60-97b3-b9c50dfb333c",
   "metadata": {},
   "outputs": [
    {
     "name": "stdout",
     "output_type": "stream",
     "text": [
      "device_type: 0.60 \n",
      "brand: 0.16 \n",
      "os: 0.72 \n",
      "form_factor: 0.18 \n",
      "cpu_brand: 0.53 \n",
      "gpu_brand: 0.55 \n",
      "gpu_model: 0.19 \n",
      "storage_type: 0.45 \n",
      "display_type: 0.32 \n",
      "wifi: 0.46 \n",
      "cpu_type: 0.25 \n"
     ]
    }
   ],
   "source": [
    "for col in computer_prices.select_dtypes(include=\"object\"): \n",
    "    ratio = computer_prices[col].value_counts(normalize=True).max() \n",
    "    \n",
    "    print(f\"{col}: {ratio:.2f} {\"( Imbalanced )\" if  ratio > 0.75 else \"\"}\")"
   ]
  },
  {
   "cell_type": "code",
   "execution_count": 17,
   "id": "2140f142-8a69-4af7-ad12-d854d3079334",
   "metadata": {},
   "outputs": [
    {
     "name": "stdout",
     "output_type": "stream",
     "text": [
      "device_type: 0.67 ( Imbalanced )\n",
      "brand: 2.22 \n",
      "os: 0.84 ( Imbalanced )\n",
      "form_factor: 2.17 \n",
      "cpu_brand: 0.96 ( Imbalanced )\n",
      "gpu_brand: 1.17 \n",
      "gpu_model: 3.27 \n",
      "storage_type: 1.27 \n",
      "display_type: 1.66 \n",
      "wifi: 1.23 \n",
      "cpu_type: 2.21 \n"
     ]
    }
   ],
   "source": [
    "for col in computer_prices.select_dtypes(include=\"object\"):\n",
    "    dist = computer_prices[col].value_counts(normalize=True)\n",
    "    ent = entropy(dist)\n",
    "    \n",
    "    print(f\"{col}: {ent:.2f} {\"( Imbalanced )\" if  ent < 1.0 else \"\"}\")"
   ]
  },
  {
   "cell_type": "code",
   "execution_count": 18,
   "id": "d23b12b3-fad3-4ede-a879-781894a03377",
   "metadata": {},
   "outputs": [],
   "source": [
    "numeric_cols = computer_prices.select_dtypes(include=['int64', 'float64']).columns\n",
    "object_cols = computer_prices.select_dtypes(include=['object']).columns\n",
    "\n",
    "scaler = StandardScaler()\n",
    "computer_prices[numeric_cols] = scaler.fit_transform(computer_prices[numeric_cols])\n",
    "\n",
    "computer_prices = pd.get_dummies(computer_prices, columns=object_cols)"
   ]
  },
  {
   "cell_type": "code",
   "execution_count": 19,
   "id": "2a8d09bb-8b98-494b-918d-66b0680a0eea",
   "metadata": {},
   "outputs": [
    {
     "data": {
      "text/plain": [
       "ID                  float64\n",
       "release_year        float64\n",
       "cpu_tier            float64\n",
       "cpu_cores           float64\n",
       "cpu_threads         float64\n",
       "                     ...   \n",
       "cpu_type_Ryzen 9       bool\n",
       "cpu_type_i3            bool\n",
       "cpu_type_i5            bool\n",
       "cpu_type_i7            bool\n",
       "cpu_type_i9            bool\n",
       "Length: 137, dtype: object"
      ]
     },
     "execution_count": 19,
     "metadata": {},
     "output_type": "execute_result"
    }
   ],
   "source": [
    "computer_prices.dtypes"
   ]
  },
  {
   "cell_type": "code",
   "execution_count": 20,
   "id": "b9863ac1-af0e-4e72-a361-31298bea0e01",
   "metadata": {},
   "outputs": [],
   "source": [
    "X = computer_prices.drop('price', axis=1)\n",
    "y = computer_prices['price']\n",
    "\n",
    "X_train, X_temp, y_train, y_temp = train_test_split(X, y, test_size=0.2, random_state=42)\n",
    "X_val, X_test, y_val, y_test = train_test_split(X_temp, y_temp, test_size=0.5, random_state=42)"
   ]
  },
  {
   "cell_type": "code",
   "execution_count": 21,
   "id": "8df019a0-fa56-4756-91e3-2f593103e132",
   "metadata": {},
   "outputs": [],
   "source": [
    "def sigmoid(x):\n",
    "    return 1 / (1 + np.exp(-x))\n",
    "\n",
    "def sigmoid_derivative(x):\n",
    "    s = sigmoid(x)\n",
    "    return s * (1 - s)\n",
    "\n",
    "def linear(x):\n",
    "    return x\n",
    "\n",
    "def mse(y, Y):\n",
    "    return np.mean((y - Y) ** 2)\n",
    "\n",
    "def mse_grad(y, Y):\n",
    "    return (y - Y) / len(Y)"
   ]
  },
  {
   "cell_type": "code",
   "execution_count": 23,
   "id": "f4e20969-260e-4e7c-803c-d875fc08d15a",
   "metadata": {},
   "outputs": [],
   "source": [
    "class MLP:\n",
    "    def __init__(self, n_input, n_hidden):\n",
    "        self.w1 = np.random.randn(n_input, n_hidden)\n",
    "        self.b1 = np.zeros((1, n_hidden))\n",
    "        self.w2 = np.random.randn(n_hidden, 1)\n",
    "        self.b2 = np.zeros((1, 1))\n",
    "\n",
    "    def forward_pass(self, X):\n",
    "        self.z1 = X.dot(self.w1) + self.b1\n",
    "        self.a1 = sigmoid(self.z1)\n",
    "        self.z2 = self.a1.dot(self.w2) + self.b2\n",
    "        return linear(self.z2)\n",
    "\n",
    "    def train(self, X_train, y_train, X_val, y_val, epochs, learning_rate=0.5, batch_size=8):\n",
    "        n_samples = X_train.shape[0]\n",
    "        \n",
    "        pbar = tqdm(range(epochs), desc=\"Training\", colour=\"magenta\", bar_format=\"{l_bar}{bar:25}{r_bar}\")\n",
    "\n",
    "        for e in pbar:\n",
    "            indices = np.random.permutation(n_samples)\n",
    "            \n",
    "            X_shuffled = X_train[indices]\n",
    "            y_shuffled = y_train[indices]\n",
    "\n",
    "            for start in range(0, n_samples, batch_size):\n",
    "                end = start + batch_size\n",
    "\n",
    "                X_batch = X_shuffled[start:end]\n",
    "                y_batch = y_shuffled[start:end]\n",
    "\n",
    "                y_pred = self.forward_pass(X_batch)\n",
    "                error = mse_grad(y_pred, y_batch)\n",
    "\n",
    "                dw2 = self.a1.T.dot(error)\n",
    "                db2 = np.sum(error, axis=0, keepdims=True)\n",
    "\n",
    "                da1 = error.dot(self.w2.T)\n",
    "                dz1 = da1 * sigmoid_derivative(self.z1)\n",
    "                dw1 = X_batch.T.dot(dz1)\n",
    "                db1 = np.sum(dz1, axis=0, keepdims=True)\n",
    "\n",
    "                self.w2 -= learning_rate * dw2\n",
    "                self.b2 -= learning_rate * db2\n",
    "                self.w1 -= learning_rate * dw1\n",
    "                self.b1 -= learning_rate * db1\n",
    "\n",
    "            train_loss = mse(self.forward_pass(X_train), y_train)\n",
    "            postfix = {\"train_loss\": train_loss}\n",
    "\n",
    "            val_loss = mse(self.forward_pass(X_val), y_val)\n",
    "            postfix[\"val_loss\"] = val_loss\n",
    "\n",
    "            if e % 1000 == 0:\n",
    "                pbar.set_postfix(postfix)"
   ]
  },
  {
   "cell_type": "code",
   "execution_count": 24,
   "id": "4e0bc6c1-da45-4050-8a8c-2be1839893a0",
   "metadata": {},
   "outputs": [
    {
     "name": "stderr",
     "output_type": "stream",
     "text": [
      "Training: 100%|\u001b[35m█████████████████████████\u001b[0m| 1000/1000 [11:18<00:00,  1.47it/s, train_loss=0.191, val_loss=0.149]\u001b[0m\n"
     ]
    }
   ],
   "source": [
    "X_train_np = X_train.values.astype(np.float64)\n",
    "y_train_np = y_train.values.reshape(-1, 1).astype(np.float64) \n",
    "X_val_np = X_val.values.astype(np.float64)\n",
    "y_val_np = y_val.values.reshape(-1, 1).astype(np.float64)\n",
    "\n",
    "mlp = MLP(n_input=X_train_np.shape[1], n_hidden=8)\n",
    "mlp.train(X_train_np, y_train_np, X_val=X_val_np, y_val=y_val_np, epochs=1000, learning_rate=0.5, batch_size=8)"
   ]
  },
  {
   "cell_type": "code",
   "execution_count": 25,
   "id": "6ce934a8-2ce2-414e-9e5c-7a59202f2fc6",
   "metadata": {},
   "outputs": [
    {
     "name": "stdout",
     "output_type": "stream",
     "text": [
      "MSE: 0.14817668356863953\n"
     ]
    }
   ],
   "source": [
    "X_test_np = X_test.values.astype(np.float64)\n",
    "y_test_np = y_test.values.reshape(-1, 1).astype(np.float64)\n",
    "\n",
    "y_pred_test = mlp.forward_pass(X_test_np)\n",
    "test_loss = mse(y_pred_test, y_test_np)\n",
    "\n",
    "print(\"MSE:\", test_loss)"
   ]
  },
  {
   "cell_type": "code",
   "execution_count": null,
   "id": "d7d41e5a-6b8b-428d-945f-24e098a8d026",
   "metadata": {},
   "outputs": [],
   "source": []
  }
 ],
 "metadata": {
  "kernelspec": {
   "display_name": "Python 3 (ipykernel)",
   "language": "python",
   "name": "python3"
  },
  "language_info": {
   "codemirror_mode": {
    "name": "ipython",
    "version": 3
   },
   "file_extension": ".py",
   "mimetype": "text/x-python",
   "name": "python",
   "nbconvert_exporter": "python",
   "pygments_lexer": "ipython3",
   "version": "3.13.5"
  }
 },
 "nbformat": 4,
 "nbformat_minor": 5
}
